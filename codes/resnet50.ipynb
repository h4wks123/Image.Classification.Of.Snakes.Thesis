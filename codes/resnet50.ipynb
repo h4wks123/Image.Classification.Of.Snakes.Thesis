{
 "cells": [
  {
   "cell_type": "markdown",
   "metadata": {},
   "source": [
    "IMPORTS"
   ]
  },
  {
   "cell_type": "code",
   "execution_count": 104,
   "metadata": {},
   "outputs": [],
   "source": [
    "from tensorflow.keras.applications import ResNet50\n",
    "from tensorflow.keras.applications.resnet import preprocess_input as resnet_preprocess_input\n",
    "from tensorflow.keras.models import Model\n",
    "from tensorflow.keras.layers import Dense, GlobalAveragePooling2D, Dropout\n",
    "from tensorflow.keras.preprocessing.image import ImageDataGenerator\n",
    "from tensorflow.keras.optimizers import Adam\n",
    "from tensorflow.keras.metrics import Precision, Recall\n",
    "from tqdm.keras import TqdmCallback\n",
    "from sklearn.metrics import confusion_matrix\n",
    "from sklearn.utils import class_weight\n",
    "import seaborn as sns\n",
    "import matplotlib.pyplot as plt\n",
    "import numpy as np\n",
    "import pandas as pd"
   ]
  },
  {
   "cell_type": "markdown",
   "metadata": {},
   "source": [
    "RESNET MODEL STRUCTURE"
   ]
  },
  {
   "cell_type": "code",
   "execution_count": 99,
   "metadata": {},
   "outputs": [],
   "source": [
    "base_model = ResNet50(weights='imagenet', include_top=False, input_shape=(224, 224, 3))\n",
    "for layer in base_model.layers[:-5]:\n",
    "    layer.trainable = False\n",
    "    \n",
    "x = base_model.output\n",
    "x = GlobalAveragePooling2D()(x)\n",
    "x = Dense(512, activation='relu')(x)\n",
    "x = Dropout(0.5)(x)\n",
    "\n",
    "predictions = Dense(1, activation='sigmoid')(x)\n",
    "model = Model(inputs=base_model.input, outputs=predictions)\n",
    "\n",
    "model.compile(optimizer=Adam(learning_rate=0.0001),\n",
    "              loss='binary_crossentropy',\n",
    "              metrics=['accuracy', Precision(), Recall()])"
   ]
  },
  {
   "cell_type": "markdown",
   "metadata": {},
   "source": [
    "DATASET PREPROCESSING"
   ]
  },
  {
   "cell_type": "code",
   "execution_count": 105,
   "metadata": {},
   "outputs": [],
   "source": [
    "venomous_classes = [\"barredcoral snake\", \"king cobra\", \"north ph temple pitviper\"]\n",
    "\n",
    "def csv_to_binary_labels(csv_path, image_dir):\n",
    "    df = pd.read_csv(csv_path)\n",
    "\n",
    "    class_cols = df.columns[1:]  # skip filename\n",
    "    df[\"label\"] = df[class_cols].idxmax(axis=1)\n",
    "\n",
    "    df[\"binary_label\"] = df[\"label\"].apply(lambda x: 1 if x in venomous_classes else 0)\n",
    "\n",
    "    # Create the final binary DataFrame\n",
    "    df_binary = df[[\"filename\", \"binary_label\"]].copy()\n",
    "    df_binary[\"filename\"] = df_binary[\"filename\"].apply(lambda x: f\"{image_dir}/{x}\")\n",
    "\n",
    "    # ✅ Make sure labels are strings for class_mode='binary'\n",
    "    df_binary[\"binary_label\"] = df_binary[\"binary_label\"].astype(str)\n",
    "\n",
    "    return df_binary\n"
   ]
  },
  {
   "cell_type": "markdown",
   "metadata": {},
   "source": [
    "DATA AUGMENTATION"
   ]
  },
  {
   "cell_type": "code",
   "execution_count": 106,
   "metadata": {},
   "outputs": [],
   "source": [
    "# Image size and batch size\n",
    "img_size = (224, 224)\n",
    "batch_size = 16\n",
    "\n",
    "# Data generators\n",
    "train_datagen = ImageDataGenerator(\n",
    "    preprocessing_function=resnet_preprocess_input,\n",
    "    rotation_range=20,\n",
    "    width_shift_range=0.1,\n",
    "    height_shift_range=0.1,\n",
    "    shear_range=0.1,\n",
    "    zoom_range=0.2,\n",
    "    horizontal_flip=True\n",
    ")\n",
    "\n",
    "val_test_datagen = ImageDataGenerator(preprocessing_function=resnet_preprocess_input)"
   ]
  },
  {
   "cell_type": "markdown",
   "metadata": {},
   "source": [
    "TRAIN AND VALIDATION DATAFRAME GENERATOR"
   ]
  },
  {
   "cell_type": "code",
   "execution_count": 108,
   "metadata": {},
   "outputs": [
    {
     "name": "stdout",
     "output_type": "stream",
     "text": [
      "Found 6176 validated image filenames belonging to 2 classes.\n",
      "Found 1768 validated image filenames belonging to 2 classes.\n"
     ]
    }
   ],
   "source": [
    "datagen = ImageDataGenerator(preprocessing_function=resnet_preprocess_input)\n",
    "\n",
    "train_df = csv_to_binary_labels(\"../dataset/train/_classes.csv\", \"../dataset/train\")\n",
    "val_df   = csv_to_binary_labels(\"../dataset/valid/_classes.csv\", \"../dataset/valid\")\n",
    "\n",
    "train_generator = datagen.flow_from_dataframe(\n",
    "    train_df,\n",
    "    x_col=\"filename\",\n",
    "    y_col=\"binary_label\",\n",
    "    target_size=(224, 224),\n",
    "    batch_size=16,\n",
    "    class_mode=\"binary\",  # gives [0] or [1] directly\n",
    "    shuffle=True\n",
    ")\n",
    "\n",
    "validation_generator = datagen.flow_from_dataframe(\n",
    "    val_df,\n",
    "    x_col=\"filename\",\n",
    "    y_col=\"binary_label\",\n",
    "    target_size=(224, 224),\n",
    "    batch_size=16,\n",
    "    class_mode=\"binary\",\n",
    "    shuffle=False\n",
    ")\n"
   ]
  },
  {
   "cell_type": "markdown",
   "metadata": {},
   "source": [
    "DEFINING CLASS WEIGHTS"
   ]
  },
  {
   "cell_type": "code",
   "execution_count": 109,
   "metadata": {},
   "outputs": [],
   "source": [
    "class_weights = class_weight.compute_class_weight(\n",
    "    class_weight='balanced',\n",
    "    classes=np.unique(train_df['binary_label']),\n",
    "    y=train_df['binary_label']\n",
    ")\n",
    "class_weights = dict(enumerate(class_weights))"
   ]
  },
  {
   "cell_type": "markdown",
   "metadata": {},
   "source": [
    "MODEL TRAINING"
   ]
  },
  {
   "cell_type": "code",
   "execution_count": 44,
   "metadata": {},
   "outputs": [
    {
     "data": {
      "application/vnd.jupyter.widget-view+json": {
       "model_id": "c4ff61ffdba945589f1a1e7822ff95a1",
       "version_major": 2,
       "version_minor": 0
      },
      "text/plain": [
       "0epoch [00:00, ?epoch/s]"
      ]
     },
     "metadata": {},
     "output_type": "display_data"
    },
    {
     "data": {
      "application/vnd.jupyter.widget-view+json": {
       "model_id": "ef00aaabf0ab4f74919bc155d3d58b9b",
       "version_major": 2,
       "version_minor": 0
      },
      "text/plain": [
       "0batch [00:00, ?batch/s]"
      ]
     },
     "metadata": {},
     "output_type": "display_data"
    },
    {
     "name": "stdout",
     "output_type": "stream",
     "text": [
      "Epoch 1/10\n"
     ]
    },
    {
     "name": "stderr",
     "output_type": "stream",
     "text": [
      "c:\\Users\\ivanne bayer\\AppData\\Local\\Programs\\Python\\Python311\\Lib\\site-packages\\keras\\src\\trainers\\data_adapters\\py_dataset_adapter.py:120: UserWarning: Your `PyDataset` class should call `super().__init__(**kwargs)` in its constructor. `**kwargs` can include `workers`, `use_multiprocessing`, `max_queue_size`. Do not pass these arguments to `fit()`, as they will be ignored.\n",
      "  self._warn_if_super_not_called()\n"
     ]
    },
    {
     "name": "stdout",
     "output_type": "stream",
     "text": [
      "\u001b[1m386/386\u001b[0m \u001b[32m━━━━━━━━━━━━━━━━━━━━\u001b[0m\u001b[37m\u001b[0m \u001b[1m292s\u001b[0m 729ms/step - accuracy: 0.7130 - loss: 0.5827 - precision_5: 0.7252 - recall_5: 0.7150 - val_accuracy: 0.8801 - val_loss: 0.2898 - val_precision_5: 0.9324 - val_recall_5: 0.8319\n",
      "Epoch 2/10\n",
      "\u001b[1m386/386\u001b[0m \u001b[32m━━━━━━━━━━━━━━━━━━━━\u001b[0m\u001b[37m\u001b[0m \u001b[1m269s\u001b[0m 697ms/step - accuracy: 0.9137 - loss: 0.2365 - precision_5: 0.9222 - recall_5: 0.9174 - val_accuracy: 0.9276 - val_loss: 0.1925 - val_precision_5: 0.9107 - val_recall_5: 0.9558\n",
      "Epoch 3/10\n",
      "\u001b[1m386/386\u001b[0m \u001b[32m━━━━━━━━━━━━━━━━━━━━\u001b[0m\u001b[37m\u001b[0m \u001b[1m266s\u001b[0m 690ms/step - accuracy: 0.9593 - loss: 0.1305 - precision_5: 0.9612 - recall_5: 0.9628 - val_accuracy: 0.9412 - val_loss: 0.1602 - val_precision_5: 0.9714 - val_recall_5: 0.9149\n",
      "Epoch 4/10\n",
      "\u001b[1m386/386\u001b[0m \u001b[32m━━━━━━━━━━━━━━━━━━━━\u001b[0m\u001b[37m\u001b[0m \u001b[1m262s\u001b[0m 678ms/step - accuracy: 0.9819 - loss: 0.0752 - precision_5: 0.9835 - recall_5: 0.9825 - val_accuracy: 0.9638 - val_loss: 0.1208 - val_precision_5: 0.9747 - val_recall_5: 0.9558\n",
      "Epoch 5/10\n",
      "\u001b[1m386/386\u001b[0m \u001b[32m━━━━━━━━━━━━━━━━━━━━\u001b[0m\u001b[37m\u001b[0m \u001b[1m264s\u001b[0m 683ms/step - accuracy: 0.9909 - loss: 0.0454 - precision_5: 0.9891 - recall_5: 0.9936 - val_accuracy: 0.9666 - val_loss: 0.1011 - val_precision_5: 0.9637 - val_recall_5: 0.9731\n",
      "Epoch 6/10\n",
      "\u001b[1m386/386\u001b[0m \u001b[32m━━━━━━━━━━━━━━━━━━━━\u001b[0m\u001b[37m\u001b[0m \u001b[1m261s\u001b[0m 676ms/step - accuracy: 0.9961 - loss: 0.0269 - precision_5: 0.9975 - recall_5: 0.9949 - val_accuracy: 0.9689 - val_loss: 0.1012 - val_precision_5: 0.9580 - val_recall_5: 0.9838\n",
      "Epoch 7/10\n",
      "\u001b[1m386/386\u001b[0m \u001b[32m━━━━━━━━━━━━━━━━━━━━\u001b[0m\u001b[37m\u001b[0m \u001b[1m275s\u001b[0m 712ms/step - accuracy: 0.9987 - loss: 0.0162 - precision_5: 0.9987 - recall_5: 0.9988 - val_accuracy: 0.9678 - val_loss: 0.1043 - val_precision_5: 0.9770 - val_recall_5: 0.9612\n",
      "Epoch 8/10\n",
      "\u001b[1m386/386\u001b[0m \u001b[32m━━━━━━━━━━━━━━━━━━━━\u001b[0m\u001b[37m\u001b[0m \u001b[1m276s\u001b[0m 714ms/step - accuracy: 0.9988 - loss: 0.0121 - precision_5: 0.9997 - recall_5: 0.9980 - val_accuracy: 0.9723 - val_loss: 0.1017 - val_precision_5: 0.9691 - val_recall_5: 0.9784\n",
      "Epoch 9/10\n",
      "\u001b[1m386/386\u001b[0m \u001b[32m━━━━━━━━━━━━━━━━━━━━\u001b[0m\u001b[37m\u001b[0m \u001b[1m265s\u001b[0m 688ms/step - accuracy: 0.9977 - loss: 0.0129 - precision_5: 0.9973 - recall_5: 0.9982 - val_accuracy: 0.9683 - val_loss: 0.1047 - val_precision_5: 0.9739 - val_recall_5: 0.9655\n",
      "Epoch 10/10\n",
      "\u001b[1m386/386\u001b[0m \u001b[32m━━━━━━━━━━━━━━━━━━━━\u001b[0m\u001b[37m\u001b[0m \u001b[1m298s\u001b[0m 773ms/step - accuracy: 0.9995 - loss: 0.0077 - precision_5: 0.9994 - recall_5: 0.9997 - val_accuracy: 0.9695 - val_loss: 0.1026 - val_precision_5: 0.9590 - val_recall_5: 0.9838\n"
     ]
    }
   ],
   "source": [
    "history = model.fit(\n",
    "    train_generator,\n",
    "    epochs=10,\n",
    "    validation_data=validation_generator,\n",
    "    class_weight=class_weights,\n",
    "    callbacks=[TqdmCallback(verbose=1)]\n",
    ")"
   ]
  },
  {
   "cell_type": "markdown",
   "metadata": {},
   "source": [
    "SAVING THE MODEL FOR ENSEMBLING"
   ]
  },
  {
   "cell_type": "code",
   "execution_count": 45,
   "metadata": {},
   "outputs": [
    {
     "name": "stderr",
     "output_type": "stream",
     "text": [
      "WARNING:absl:You are saving your model as an HDF5 file via `model.save()` or `keras.saving.save_model(model)`. This file format is considered legacy. We recommend using instead the native Keras format, e.g. `model.save('my_model.keras')` or `keras.saving.save_model(model, 'my_model.keras')`. \n"
     ]
    },
    {
     "name": "stdout",
     "output_type": "stream",
     "text": [
      "Model saved successfully as resnet50_finetuned_model.h5\n"
     ]
    }
   ],
   "source": [
    "# Save the trained model\n",
    "model.save('resnet50_finetuned_model.h5')  # Save the entire model\n",
    "print(\"Model saved successfully as resnet50_finetuned_model.h5\")"
   ]
  },
  {
   "cell_type": "markdown",
   "metadata": {},
   "source": [
    "TESTING DATAFRAME GENERATOR"
   ]
  },
  {
   "cell_type": "code",
   "execution_count": null,
   "metadata": {},
   "outputs": [
    {
     "name": "stdout",
     "output_type": "stream",
     "text": [
      "Found 1768 validated image filenames belonging to 2 classes.\n",
      "Found 1334 validated image filenames belonging to 2 classes.\n"
     ]
    }
   ],
   "source": [
    "test_df  = csv_to_binary_labels(\"../dataset/test/_classes.csv\", \"../dataset/test\") \n",
    "\n",
    "test_generator = datagen.flow_from_dataframe(\n",
    "    test_df,\n",
    "    x_col=\"filename\",\n",
    "    y_col=\"binary_label\",\n",
    "    target_size=(224, 224),\n",
    "    batch_size=16,\n",
    "    class_mode=\"binary\",\n",
    "    shuffle=False\n",
    ")"
   ]
  },
  {
   "cell_type": "markdown",
   "metadata": {},
   "source": [
    "DATA VALIDATION METRICS"
   ]
  },
  {
   "cell_type": "code",
   "execution_count": 79,
   "metadata": {},
   "outputs": [
    {
     "name": "stdout",
     "output_type": "stream",
     "text": [
      "\u001b[1m111/111\u001b[0m \u001b[32m━━━━━━━━━━━━━━━━━━━━\u001b[0m\u001b[37m\u001b[0m \u001b[1m64s\u001b[0m 567ms/step - accuracy: 0.9694 - loss: 0.1124 - precision_5: 0.9570 - recall_5: 0.9852\n",
      "Validation Accuracy: 96.95%\n",
      "Validation Precision: 95.90%\n",
      "Validation Recall: 98.38%\n"
     ]
    }
   ],
   "source": [
    "# Evaluate the Model on Validation Data\n",
    "validation_scores = model.evaluate(validation_generator)\n",
    "print(\"Validation Accuracy: {:.2f}%\".format(validation_scores[1] * 100))\n",
    "print(\"Validation Precision: {:.2f}%\".format(validation_scores[2] * 100))\n",
    "print(\"Validation Recall: {:.2f}%\".format(validation_scores[3] * 100))"
   ]
  },
  {
   "cell_type": "markdown",
   "metadata": {},
   "source": [
    "DATA TEST METRICS"
   ]
  },
  {
   "cell_type": "code",
   "execution_count": 93,
   "metadata": {},
   "outputs": [
    {
     "name": "stderr",
     "output_type": "stream",
     "text": [
      "c:\\Users\\ivanne bayer\\AppData\\Local\\Programs\\Python\\Python311\\Lib\\site-packages\\keras\\src\\trainers\\data_adapters\\py_dataset_adapter.py:120: UserWarning: Your `PyDataset` class should call `super().__init__(**kwargs)` in its constructor. `**kwargs` can include `workers`, `use_multiprocessing`, `max_queue_size`. Do not pass these arguments to `fit()`, as they will be ignored.\n",
      "  self._warn_if_super_not_called()\n"
     ]
    },
    {
     "name": "stdout",
     "output_type": "stream",
     "text": [
      "\u001b[1m84/84\u001b[0m \u001b[32m━━━━━━━━━━━━━━━━━━━━\u001b[0m\u001b[37m\u001b[0m \u001b[1m48s\u001b[0m 555ms/step - accuracy: 0.8225 - loss: 0.7528 - precision_5: 0.8026 - recall_5: 0.8696\n",
      "Test Accuracy: 81.18%\n",
      "Test Precision: 79.21%\n",
      "Test Recall: 84.56%\n"
     ]
    }
   ],
   "source": [
    "# Evaluate the Model on Test Data\n",
    "test_scores = model.evaluate(test_generator)\n",
    "print(\"Test Accuracy: {:.2f}%\".format(test_scores[1] * 100))\n",
    "print(\"Test Precision: {:.2f}%\".format(test_scores[2] * 100))\n",
    "print(\"Test Recall: {:.2f}%\".format(test_scores[3] * 100))"
   ]
  },
  {
   "cell_type": "markdown",
   "metadata": {},
   "source": [
    "GENERATING PREDICTIONS "
   ]
  },
  {
   "cell_type": "code",
   "execution_count": 94,
   "metadata": {},
   "outputs": [
    {
     "name": "stdout",
     "output_type": "stream",
     "text": [
      "\u001b[1m84/84\u001b[0m \u001b[32m━━━━━━━━━━━━━━━━━━━━\u001b[0m\u001b[37m\u001b[0m \u001b[1m47s\u001b[0m 560ms/step\n"
     ]
    }
   ],
   "source": [
    "# Generate predictions\n",
    "test_generator.reset()\n",
    "y_pred = model.predict(test_generator).flatten()\n",
    "y_pred_binary = (y_pred > 0.5).astype(int)\n",
    "y_true = test_df[\"binary_label\"].values\n",
    "y_true = [int(label) for label in y_true]"
   ]
  },
  {
   "cell_type": "markdown",
   "metadata": {},
   "source": [
    "RESNET TEST DATA CONFUSION MATRIX"
   ]
  },
  {
   "cell_type": "code",
   "execution_count": 95,
   "metadata": {},
   "outputs": [
    {
     "data": {
      "image/png": "[encoded data removed]",
      "text/plain": [
       "<Figure size 600x500 with 2 Axes>"
      ]
     },
     "metadata": {},
     "output_type": "display_data"
    }
   ],
   "source": [
    "# Confusion Matrix for Test Data\n",
    "cm_test = confusion_matrix(y_true, y_pred_binary)\n",
    "\n",
    "plt.figure(figsize=(6, 5))\n",
    "sns.heatmap(cm_test, annot=True, fmt='d', cmap='Blues',\n",
    "            xticklabels=[\"Non-Venomous\", \"Venomous\"],\n",
    "            yticklabels=[\"Non-Venomous\", \"Venomous\"])\n",
    "plt.ylabel('Actual')\n",
    "plt.xlabel('Predicted')\n",
    "plt.title('ResNet50 Confusion Matrix (Test Data)')\n",
    "plt.show()"
   ]
  },
  {
   "cell_type": "code",
   "execution_count": 8,
   "metadata": {},
   "outputs": [
    {
     "name": "stdout",
     "output_type": "stream",
     "text": [
      "Number of images in ../dataset/test/_classes.csv: 528\n"
     ]
    }
   ],
   "source": [
    "import pandas as pd\n",
    "\n",
    "# Load CSV\n",
    "csv_path = \"../dataset/test/_classes.csv\"\n",
    "df = pd.read_csv(csv_path)\n",
    "\n",
    "# Count how many images (rows)\n",
    "num_images = len(df)\n",
    "\n",
    "print(f\"Number of images in {csv_path}: {num_images}\")\n"
   ]
  }
 ],
 "metadata": {
  "kernelspec": {
   "display_name": "Python 3",
   "language": "python",
   "name": "python3"
  },
  "language_info": {
   "codemirror_mode": {
    "name": "ipython",
    "version": 3
   },
   "file_extension": ".py",
   "mimetype": "text/x-python",
   "name": "python",
   "nbconvert_exporter": "python",
   "pygments_lexer": "ipython3",
   "version": "3.11.5"
  }
 },
 "nbformat": 4,
 "nbformat_minor": 2
}
