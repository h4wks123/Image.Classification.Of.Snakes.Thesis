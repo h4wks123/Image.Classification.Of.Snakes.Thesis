{
 "cells": [
  {
   "cell_type": "markdown",
   "id": "96c3ac3f",
   "metadata": {},
   "source": [
    "IMPORTS "
   ]
  },
  {
   "cell_type": "code",
   "execution_count": 1,
   "id": "7a300788",
   "metadata": {},
   "outputs": [],
   "source": [
    "from tensorflow.keras.models import load_model\n",
    "from tensorflow.keras.preprocessing.image import ImageDataGenerator\n",
    "from tensorflow.keras.applications.densenet import preprocess_input as densenet_pre\n",
    "from tensorflow.keras.applications.vgg16 import preprocess_input as vgg_pre\n",
    "from tensorflow.keras.applications.resnet import preprocess_input as resnet_pre\n",
    "from sklearn.linear_model import LogisticRegression\n",
    "from sklearn.metrics import confusion_matrix, accuracy_score, precision_score, recall_score, f1_score\n",
    "import seaborn as sns\n",
    "import matplotlib.pyplot as plt\n",
    "import numpy as np\n",
    "import pandas as pd"
   ]
  },
  {
   "cell_type": "markdown",
   "id": "0b69884e",
   "metadata": {},
   "source": [
    "LOAD THE TRAINED MODELS "
   ]
  },
  {
   "cell_type": "code",
   "execution_count": 2,
   "id": "6a79fb54",
   "metadata": {},
   "outputs": [
    {
     "name": "stderr",
     "output_type": "stream",
     "text": [
      "WARNING:absl:Compiled the loaded model, but the compiled metrics have yet to be built. `model.compile_metrics` will be empty until you train or evaluate the model.\n",
      "WARNING:absl:Compiled the loaded model, but the compiled metrics have yet to be built. `model.compile_metrics` will be empty until you train or evaluate the model.\n",
      "WARNING:absl:Compiled the loaded model, but the compiled metrics have yet to be built. `model.compile_metrics` will be empty until you train or evaluate the model.\n"
     ]
    }
   ],
   "source": [
    "densenet_model = load_model(\"densenet201_finetuned_model.h5\", compile=False)\n",
    "vgg_model      = load_model(\"vgg16_finetuned_model.h5\", compile=False)\n",
    "resnet_model   = load_model(\"resnet50_finetuned_model.h5\", compile=False)\n",
    "\n",
    "models = [\n",
    "    (densenet_model, densenet_pre, \"DenseNet201\"),\n",
    "    (vgg_model, vgg_pre, \"VGG16\"),\n",
    "    (resnet_model, resnet_pre, \"ResNet50\")\n",
    "]"
   ]
  },
  {
   "cell_type": "markdown",
   "id": "f671cd5e",
   "metadata": {},
   "source": [
    "BINARY CLASS MAPPING FUNCTION"
   ]
  },
  {
   "cell_type": "code",
   "execution_count": 3,
   "id": "cca0791f",
   "metadata": {},
   "outputs": [],
   "source": [
    "venomous_classes = [\"barredcoral snake\", \"king cobra\", \"north ph temple pitviper\"]\n",
    "\n",
    "def csv_to_binary_labels(csv_path, image_dir):\n",
    "    df = pd.read_csv(csv_path)\n",
    "    class_cols = df.columns[1:]  # skip filename\n",
    "    df[\"label\"] = df[class_cols].idxmax(axis=1)\n",
    "    df[\"binary_label\"] = df[\"label\"].apply(lambda x: 1 if x in venomous_classes else 0)\n",
    "\n",
    "    df_binary = df[[\"filename\", \"binary_label\"]].copy()\n",
    "    df_binary[\"filename\"] = df_binary[\"filename\"].apply(lambda x: f\"{image_dir}/{x}\")\n",
    "    df_binary[\"binary_label\"] = df_binary[\"binary_label\"].astype(str)\n",
    "    return df_binary"
   ]
  },
  {
   "cell_type": "markdown",
   "id": "df79d452",
   "metadata": {},
   "source": [
    "DATAFRAME GENERATORS "
   ]
  },
  {
   "cell_type": "code",
   "execution_count": 4,
   "id": "ac5af468",
   "metadata": {},
   "outputs": [
    {
     "name": "stdout",
     "output_type": "stream",
     "text": [
      "Found 1800 validated image filenames belonging to 2 classes.\n",
      "Found 900 validated image filenames belonging to 2 classes.\n"
     ]
    }
   ],
   "source": [
    "datagen = ImageDataGenerator()\n",
    "\n",
    "val_df  = csv_to_binary_labels(\"../dataset/valid/_classes.csv\", \"../dataset/valid\")\n",
    "test_df = csv_to_binary_labels(\"../dataset/test/_classes.csv\", \"../dataset/test\")\n",
    "\n",
    "val_generator = datagen.flow_from_dataframe(\n",
    "    val_df,\n",
    "    x_col=\"filename\",\n",
    "    y_col=\"binary_label\",\n",
    "    target_size=(224, 224),\n",
    "    batch_size=16,\n",
    "    class_mode=\"binary\",\n",
    "    shuffle=False\n",
    ")\n",
    "\n",
    "test_generator = datagen.flow_from_dataframe(\n",
    "    test_df,\n",
    "    x_col=\"filename\",\n",
    "    y_col=\"binary_label\",\n",
    "    target_size=(224, 224),\n",
    "    batch_size=16,\n",
    "    class_mode=\"binary\",\n",
    "    shuffle=False\n",
    ")"
   ]
  },
  {
   "cell_type": "markdown",
   "id": "455e4701",
   "metadata": {},
   "source": [
    "PREDICTION WITH PREPROCESSING"
   ]
  },
  {
   "cell_type": "code",
   "execution_count": 5,
   "id": "a6617f77",
   "metadata": {},
   "outputs": [],
   "source": [
    "def predict_with_preprocess(model, generator, preprocess_fn):\n",
    "    X_batches = []\n",
    "    for batch, _ in generator:\n",
    "        X_batches.append(preprocess_fn(batch.copy()))\n",
    "        if len(X_batches) * generator.batch_size >= len(generator.filenames):\n",
    "            break\n",
    "    X = np.concatenate(X_batches)\n",
    "    return model.predict(X, verbose=0).flatten()"
   ]
  },
  {
   "cell_type": "markdown",
   "id": "17ad69cf",
   "metadata": {},
   "source": [
    "COLLECT PREDICTIONS"
   ]
  },
  {
   "cell_type": "code",
   "execution_count": 6,
   "id": "869c6451",
   "metadata": {},
   "outputs": [
    {
     "name": "stdout",
     "output_type": "stream",
     "text": [
      "DenseNet201 predictions done, shape: (1800,)\n",
      "VGG16 predictions done, shape: (1800,)\n",
      "ResNet50 predictions done, shape: (1800,)\n",
      "DenseNet201 predictions done, shape: (900,)\n",
      "VGG16 predictions done, shape: (900,)\n",
      "ResNet50 predictions done, shape: (900,)\n"
     ]
    }
   ],
   "source": [
    "def get_all_preds(models, generator):\n",
    "    preds = []\n",
    "    for model, preprocess_fn, name in models:\n",
    "        generator.reset()\n",
    "        p = predict_with_preprocess(model, generator, preprocess_fn)\n",
    "        preds.append(p)\n",
    "        print(f\"{name} predictions done, shape: {p.shape}\")\n",
    "    return np.array(preds)  # shape: (n_models, n_samples)\n",
    "\n",
    "val_preds  = get_all_preds(models, val_generator)\n",
    "test_preds = get_all_preds(models, test_generator)\n",
    "\n",
    "y_val  = val_df[\"binary_label\"].astype(int).values\n",
    "y_test = test_df[\"binary_label\"].astype(int).values"
   ]
  },
  {
   "cell_type": "markdown",
   "id": "c68eb665",
   "metadata": {},
   "source": [
    "STACKING ENSEMBLE FUNCTION"
   ]
  },
  {
   "cell_type": "code",
   "execution_count": 7,
   "id": "0af86bed",
   "metadata": {},
   "outputs": [],
   "source": [
    "def stacking_ensemble(val_preds, y_val, test_preds, y_test):\n",
    "    # reshape predictions: (n_models, n_samples) -> (n_samples, n_models)\n",
    "    X_val  = val_preds.T  \n",
    "    X_test = test_preds.T\n",
    "\n",
    "    # Logistic Regression as meta-learner\n",
    "    meta = LogisticRegression(max_iter=1000, class_weight=\"balanced\")\n",
    "    meta.fit(X_val, y_val)\n",
    "\n",
    "    meta_probs = meta.predict_proba(X_test)[:, 1]\n",
    "    meta_preds = (meta_probs > 0.5).astype(int)\n",
    "\n",
    "    acc = accuracy_score(y_test, meta_preds)\n",
    "    prec = precision_score(y_test, meta_preds, zero_division=0)\n",
    "    rec = recall_score(y_test, meta_preds, zero_division=0)\n",
    "    f1 = f1_score(y_test, meta_preds, zero_division=0)\n",
    "\n",
    "    return (acc, prec, rec, f1), meta_preds\n",
    "\n",
    "stack_metrics, stack_preds = stacking_ensemble(val_preds, y_val, test_preds, y_test)"
   ]
  },
  {
   "cell_type": "markdown",
   "id": "658eb9a5",
   "metadata": {},
   "source": [
    "STACKED ENSEMBLE CONFUSION MATRIX"
   ]
  },
  {
   "cell_type": "code",
   "execution_count": 8,
   "id": "93e26ccc",
   "metadata": {},
   "outputs": [
    {
     "data": {
      "image/png": "[encoded data removed]",
      "text/plain": [
       "<Figure size 600x500 with 2 Axes>"
      ]
     },
     "metadata": {},
     "output_type": "display_data"
    }
   ],
   "source": [
    "cm_stack = confusion_matrix(y_test, stack_preds)\n",
    "plt.figure(figsize=(6, 5))\n",
    "sns.heatmap(cm_stack, annot=True, fmt='d', cmap='Greens',\n",
    "            xticklabels=[\"Non-Venomous\", \"Venomous\"],\n",
    "            yticklabels=[\"Non-Venomous\", \"Venomous\"])\n",
    "plt.ylabel(\"Actual\")\n",
    "plt.xlabel(\"Predicted\")\n",
    "plt.title(\"Stacking Ensemble Confusion Matrix (Test Data)\")\n",
    "plt.show()"
   ]
  },
  {
   "cell_type": "markdown",
   "id": "b0d77f3f",
   "metadata": {},
   "source": [
    "STACKED ENSEMBLE METRICS"
   ]
  },
  {
   "cell_type": "code",
   "execution_count": 9,
   "id": "c9756c0b",
   "metadata": {},
   "outputs": [
    {
     "name": "stdout",
     "output_type": "stream",
     "text": [
      "\n",
      "Stacking Ensemble (Logistic Regression) on Test:\n",
      "Accuracy:  85.11%\n",
      "Precision: 86.92%\n",
      "Recall:    83.94%\n",
      "F1 Score:  85.40%\n"
     ]
    }
   ],
   "source": [
    "print(\"\\nStacking Ensemble (Logistic Regression) on Test:\")\n",
    "print(\"Accuracy:  {:.2f}%\".format(stack_metrics[0] * 100))\n",
    "print(\"Precision: {:.2f}%\".format(stack_metrics[1] * 100))\n",
    "print(\"Recall:    {:.2f}%\".format(stack_metrics[2] * 100))\n",
    "print(\"F1 Score:  {:.2f}%\".format(stack_metrics[3] * 100))"
   ]
  }
 ],
 "metadata": {
  "kernelspec": {
   "display_name": "Python 3",
   "language": "python",
   "name": "python3"
  },
  "language_info": {
   "codemirror_mode": {
    "name": "ipython",
    "version": 3
   },
   "file_extension": ".py",
   "mimetype": "text/x-python",
   "name": "python",
   "nbconvert_exporter": "python",
   "pygments_lexer": "ipython3",
   "version": "3.11.5"
  }
 },
 "nbformat": 4,
 "nbformat_minor": 5
}
