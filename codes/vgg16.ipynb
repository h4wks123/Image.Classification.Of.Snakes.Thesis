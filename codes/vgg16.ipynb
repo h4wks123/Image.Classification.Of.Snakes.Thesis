{
 "cells": [
  {
   "cell_type": "markdown",
   "id": "ab31fc6d",
   "metadata": {},
   "source": [
    "IMPORTS"
   ]
  },
  {
   "cell_type": "code",
   "execution_count": 1,
   "id": "d23f7968",
   "metadata": {},
   "outputs": [],
   "source": [
    "from tensorflow.keras.applications import VGG16\n",
    "from tensorflow.keras.applications.vgg16 import preprocess_input as vgg_preprocess_input\n",
    "from tensorflow.keras.models import Model\n",
    "from tensorflow.keras.layers import Dense, GlobalAveragePooling2D, Dropout\n",
    "from tensorflow.keras.preprocessing.image import ImageDataGenerator\n",
    "from tensorflow.keras.optimizers import Adam\n",
    "from tensorflow.keras.metrics import Precision, Recall\n",
    "from tqdm.keras import TqdmCallback\n",
    "from sklearn.metrics import confusion_matrix\n",
    "from sklearn.utils import class_weight\n",
    "import seaborn as sns\n",
    "import matplotlib.pyplot as plt\n",
    "import numpy as np\n",
    "import pandas as pd"
   ]
  },
  {
   "cell_type": "markdown",
   "id": "a542c1ba",
   "metadata": {},
   "source": [
    "VGG MODEL STRUCTURE"
   ]
  },
  {
   "cell_type": "code",
   "execution_count": 2,
   "id": "db754c3a",
   "metadata": {},
   "outputs": [],
   "source": [
    "\n",
    "base_model = VGG16(weights='imagenet', include_top=False, input_shape=(224, 224, 3))\n",
    "for layer in base_model.layers[:-5]:\n",
    "    layer.trainable = False\n",
    "    \n",
    "x = base_model.output\n",
    "x = GlobalAveragePooling2D()(x)\n",
    "x = Dense(512, activation='relu')(x)\n",
    "x = Dropout(0.5)(x)\n",
    "\n",
    "predictions = Dense(1, activation='sigmoid')(x)\n",
    "model = Model(inputs=base_model.input, outputs=predictions)\n",
    "\n",
    "model.compile(optimizer=Adam(learning_rate=0.0001),\n",
    "              loss='binary_crossentropy',\n",
    "              metrics=['accuracy', Precision(), Recall()])"
   ]
  },
  {
   "cell_type": "markdown",
   "id": "f5bcd746",
   "metadata": {},
   "source": [
    "DATA PREPROCESSING"
   ]
  },
  {
   "cell_type": "code",
   "execution_count": 3,
   "id": "a4c0c02a",
   "metadata": {},
   "outputs": [],
   "source": [
    "\n",
    "venomous_classes = [\"barredcoral snake\", \"king cobra\", \"north ph temple pitviper\"]\n",
    "\n",
    "def csv_to_binary_labels(csv_path, image_dir):\n",
    "    df = pd.read_csv(csv_path)\n",
    "\n",
    "    class_cols = df.columns[1:]  # skip filename\n",
    "    df[\"label\"] = df[class_cols].idxmax(axis=1)\n",
    "\n",
    "    df[\"binary_label\"] = df[\"label\"].apply(lambda x: 1 if x in venomous_classes else 0)\n",
    "\n",
    "    # Create the final binary DataFrame\n",
    "    df_binary = df[[\"filename\", \"binary_label\"]].copy()\n",
    "    df_binary[\"filename\"] = df_binary[\"filename\"].apply(lambda x: f\"{image_dir}/{x}\")\n",
    "\n",
    "    # ✅ Make sure labels are strings for class_mode='binary'\n",
    "    df_binary[\"binary_label\"] = df_binary[\"binary_label\"].astype(str)\n",
    "\n",
    "    return df_binary"
   ]
  },
  {
   "cell_type": "markdown",
   "id": "bfdd2c7c",
   "metadata": {},
   "source": [
    "DATA AUGMENTATION"
   ]
  },
  {
   "cell_type": "code",
   "execution_count": 4,
   "id": "745aa1e6",
   "metadata": {},
   "outputs": [],
   "source": [
    "\n",
    "# Image size and batch size\n",
    "img_size = (224, 224)\n",
    "batch_size = 16\n",
    "\n",
    "# Data generators\n",
    "train_datagen = ImageDataGenerator(\n",
    "    preprocessing_function=vgg_preprocess_input,\n",
    "    rotation_range=20,\n",
    "    width_shift_range=0.1,\n",
    "    height_shift_range=0.1,\n",
    "    shear_range=0.1,\n",
    "    zoom_range=0.2,\n",
    "    horizontal_flip=True\n",
    ")\n",
    "\n",
    "val_test_datagen = ImageDataGenerator(preprocessing_function=vgg_preprocess_input)"
   ]
  },
  {
   "cell_type": "markdown",
   "id": "271c9a1d",
   "metadata": {},
   "source": [
    "TRAIN AND VALIDATION DATAFRAME GENERATION"
   ]
  },
  {
   "cell_type": "code",
   "execution_count": 5,
   "id": "01ae4abc",
   "metadata": {},
   "outputs": [
    {
     "name": "stdout",
     "output_type": "stream",
     "text": [
      "Found 6176 validated image filenames belonging to 2 classes.\n",
      "Found 1768 validated image filenames belonging to 2 classes.\n"
     ]
    }
   ],
   "source": [
    "\n",
    "datagen = ImageDataGenerator(preprocessing_function=vgg_preprocess_input)\n",
    "\n",
    "train_df = csv_to_binary_labels(\"../dataset/train/_classes.csv\", \"../dataset/train\")\n",
    "val_df   = csv_to_binary_labels(\"../dataset/valid/_classes.csv\", \"../dataset/valid\")\n",
    "\n",
    "train_generator = datagen.flow_from_dataframe(\n",
    "    train_df,\n",
    "    x_col=\"filename\",\n",
    "    y_col=\"binary_label\",\n",
    "    target_size=(224, 224),\n",
    "    batch_size=16,\n",
    "    class_mode=\"binary\",  # gives [0] or [1] directly\n",
    "    shuffle=True\n",
    ")\n",
    "\n",
    "validation_generator = datagen.flow_from_dataframe(\n",
    "    val_df,\n",
    "    x_col=\"filename\",\n",
    "    y_col=\"binary_label\",\n",
    "    target_size=(224, 224),\n",
    "    batch_size=16,\n",
    "    class_mode=\"binary\",\n",
    "    shuffle=False\n",
    ")\n",
    "\n"
   ]
  },
  {
   "cell_type": "markdown",
   "id": "f05928d8",
   "metadata": {},
   "source": [
    "DEFINE CLASS WEIGHTS"
   ]
  },
  {
   "cell_type": "code",
   "execution_count": 6,
   "id": "af90fb4c",
   "metadata": {},
   "outputs": [],
   "source": [
    "class_weights = class_weight.compute_class_weight(\n",
    "    class_weight='balanced',\n",
    "    classes=np.unique(train_df['binary_label']),\n",
    "    y=train_df['binary_label']\n",
    ")\n",
    "class_weights = dict(enumerate(class_weights))"
   ]
  },
  {
   "cell_type": "markdown",
   "id": "1ec31103",
   "metadata": {},
   "source": [
    "MODEL TRAINING"
   ]
  },
  {
   "cell_type": "code",
   "execution_count": 7,
   "id": "45160fd2",
   "metadata": {},
   "outputs": [
    {
     "data": {
      "application/vnd.jupyter.widget-view+json": {
       "model_id": "db252994dc904e169ea05a204153e8f7",
       "version_major": 2,
       "version_minor": 0
      },
      "text/plain": [
       "0epoch [00:00, ?epoch/s]"
      ]
     },
     "metadata": {},
     "output_type": "display_data"
    },
    {
     "data": {
      "application/vnd.jupyter.widget-view+json": {
       "model_id": "71b381fc1019463c9e41468df91a2a98",
       "version_major": 2,
       "version_minor": 0
      },
      "text/plain": [
       "0batch [00:00, ?batch/s]"
      ]
     },
     "metadata": {},
     "output_type": "display_data"
    },
    {
     "name": "stdout",
     "output_type": "stream",
     "text": [
      "Epoch 1/10\n"
     ]
    },
    {
     "name": "stderr",
     "output_type": "stream",
     "text": [
      "c:\\Users\\ivanne bayer\\AppData\\Local\\Programs\\Python\\Python311\\Lib\\site-packages\\keras\\src\\trainers\\data_adapters\\py_dataset_adapter.py:120: UserWarning: Your `PyDataset` class should call `super().__init__(**kwargs)` in its constructor. `**kwargs` can include `workers`, `use_multiprocessing`, `max_queue_size`. Do not pass these arguments to `fit()`, as they will be ignored.\n",
      "  self._warn_if_super_not_called()\n"
     ]
    },
    {
     "name": "stdout",
     "output_type": "stream",
     "text": [
      "\u001b[1m386/386\u001b[0m \u001b[32m━━━━━━━━━━━━━━━━━━━━\u001b[0m\u001b[37m\u001b[0m \u001b[1m616s\u001b[0m 2s/step - accuracy: 0.5637 - loss: 0.7258 - precision: 0.5875 - recall: 0.5715 - val_accuracy: 0.7296 - val_loss: 0.5180 - val_precision: 0.7373 - val_recall: 0.7532\n",
      "Epoch 2/10\n",
      "\u001b[1m386/386\u001b[0m \u001b[32m━━━━━━━━━━━━━━━━━━━━\u001b[0m\u001b[37m\u001b[0m \u001b[1m622s\u001b[0m 2s/step - accuracy: 0.7831 - loss: 0.4574 - precision: 0.7805 - recall: 0.8212 - val_accuracy: 0.8507 - val_loss: 0.3364 - val_precision: 0.8340 - val_recall: 0.8933\n",
      "Epoch 3/10\n",
      "\u001b[1m386/386\u001b[0m \u001b[32m━━━━━━━━━━━━━━━━━━━━\u001b[0m\u001b[37m\u001b[0m \u001b[1m623s\u001b[0m 2s/step - accuracy: 0.8900 - loss: 0.2508 - precision: 0.8812 - recall: 0.9124 - val_accuracy: 0.8976 - val_loss: 0.2434 - val_precision: 0.8716 - val_recall: 0.9440\n",
      "Epoch 4/10\n",
      "\u001b[1m386/386\u001b[0m \u001b[32m━━━━━━━━━━━━━━━━━━━━\u001b[0m\u001b[37m\u001b[0m \u001b[1m586s\u001b[0m 2s/step - accuracy: 0.9508 - loss: 0.1342 - precision: 0.9434 - recall: 0.9645 - val_accuracy: 0.9310 - val_loss: 0.1775 - val_precision: 0.9030 - val_recall: 0.9731\n",
      "Epoch 5/10\n",
      "\u001b[1m386/386\u001b[0m \u001b[32m━━━━━━━━━━━━━━━━━━━━\u001b[0m\u001b[37m\u001b[0m \u001b[1m629s\u001b[0m 2s/step - accuracy: 0.9646 - loss: 0.0968 - precision: 0.9592 - recall: 0.9736 - val_accuracy: 0.9321 - val_loss: 0.2705 - val_precision: 0.9644 - val_recall: 0.9041\n",
      "Epoch 6/10\n",
      "\u001b[1m386/386\u001b[0m \u001b[32m━━━━━━━━━━━━━━━━━━━━\u001b[0m\u001b[37m\u001b[0m \u001b[1m640s\u001b[0m 2s/step - accuracy: 0.9807 - loss: 0.0553 - precision: 0.9799 - recall: 0.9834 - val_accuracy: 0.9542 - val_loss: 0.1551 - val_precision: 0.9407 - val_recall: 0.9741\n",
      "Epoch 7/10\n",
      "\u001b[1m386/386\u001b[0m \u001b[32m━━━━━━━━━━━━━━━━━━━━\u001b[0m\u001b[37m\u001b[0m \u001b[1m669s\u001b[0m 2s/step - accuracy: 0.9922 - loss: 0.0247 - precision: 0.9928 - recall: 0.9925 - val_accuracy: 0.9576 - val_loss: 0.1695 - val_precision: 0.9713 - val_recall: 0.9472\n",
      "Epoch 8/10\n",
      "\u001b[1m386/386\u001b[0m \u001b[32m━━━━━━━━━━━━━━━━━━━━\u001b[0m\u001b[37m\u001b[0m \u001b[1m645s\u001b[0m 2s/step - accuracy: 0.9931 - loss: 0.0233 - precision: 0.9939 - recall: 0.9930 - val_accuracy: 0.9531 - val_loss: 0.1659 - val_precision: 0.9774 - val_recall: 0.9321\n",
      "Epoch 9/10\n",
      "\u001b[1m386/386\u001b[0m \u001b[32m━━━━━━━━━━━━━━━━━━━━\u001b[0m\u001b[37m\u001b[0m \u001b[1m674s\u001b[0m 2s/step - accuracy: 0.9975 - loss: 0.0091 - precision: 0.9973 - recall: 0.9979 - val_accuracy: 0.8971 - val_loss: 0.3862 - val_precision: 0.9605 - val_recall: 0.8384\n",
      "Epoch 10/10\n",
      "\u001b[1m386/386\u001b[0m \u001b[32m━━━━━━━━━━━━━━━━━━━━\u001b[0m\u001b[37m\u001b[0m \u001b[1m647s\u001b[0m 2s/step - accuracy: 0.9868 - loss: 0.0445 - precision: 0.9905 - recall: 0.9847 - val_accuracy: 0.9417 - val_loss: 0.2304 - val_precision: 0.9758 - val_recall: 0.9116\n"
     ]
    }
   ],
   "source": [
    "history = model.fit(\n",
    "    train_generator,\n",
    "    epochs=10,\n",
    "    validation_data=validation_generator,\n",
    "    class_weight=class_weights,\n",
    "    callbacks=[TqdmCallback(verbose=1)]\n",
    ")"
   ]
  },
  {
   "cell_type": "code",
   "execution_count": 8,
   "id": "88f3502a",
   "metadata": {},
   "outputs": [
    {
     "name": "stderr",
     "output_type": "stream",
     "text": [
      "WARNING:absl:You are saving your model as an HDF5 file via `model.save()` or `keras.saving.save_model(model)`. This file format is considered legacy. We recommend using instead the native Keras format, e.g. `model.save('my_model.keras')` or `keras.saving.save_model(model, 'my_model.keras')`. \n"
     ]
    },
    {
     "name": "stdout",
     "output_type": "stream",
     "text": [
      "Model saved successfully as vgg16_finetuned_model.h5\n"
     ]
    }
   ],
   "source": [
    "# Save the trained model\n",
    "model.save('vgg16_finetuned_model.h5')  # Save the entire model\n",
    "print(\"Model saved successfully as vgg16_finetuned_model.h5\")"
   ]
  },
  {
   "cell_type": "markdown",
   "id": "d7ba959e",
   "metadata": {},
   "source": [
    "SAVING THE MODEL FOR ENSEMBLING"
   ]
  },
  {
   "cell_type": "code",
   "execution_count": 9,
   "id": "f47ab833",
   "metadata": {},
   "outputs": [
    {
     "name": "stdout",
     "output_type": "stream",
     "text": [
      "Found 1334 validated image filenames belonging to 2 classes.\n"
     ]
    }
   ],
   "source": [
    "test_df  = csv_to_binary_labels(\"../dataset/test/_classes.csv\", \"../dataset/test\") \n",
    "\n",
    "test_generator = datagen.flow_from_dataframe(\n",
    "    test_df,\n",
    "    x_col=\"filename\",\n",
    "    y_col=\"binary_label\",\n",
    "    target_size=(224, 224),\n",
    "    batch_size=16,\n",
    "    class_mode=\"binary\",\n",
    "    shuffle=False\n",
    ")"
   ]
  },
  {
   "cell_type": "markdown",
   "id": "e99976c6",
   "metadata": {},
   "source": [
    "DATA VALIDATION METRICS"
   ]
  },
  {
   "cell_type": "code",
   "execution_count": 10,
   "id": "a17cb3e3",
   "metadata": {},
   "outputs": [
    {
     "name": "stdout",
     "output_type": "stream",
     "text": [
      "\u001b[1m111/111\u001b[0m \u001b[32m━━━━━━━━━━━━━━━━━━━━\u001b[0m\u001b[37m\u001b[0m \u001b[1m117s\u001b[0m 1s/step - accuracy: 0.9401 - loss: 0.2234 - precision: 0.9688 - recall: 0.9137\n",
      "Validation Accuracy: 94.17%\n",
      "Validation Precision: 97.58%\n",
      "Validation Recall: 91.16%\n"
     ]
    }
   ],
   "source": [
    "# Evaluate the Model on Validation Data\n",
    "validation_scores = model.evaluate(validation_generator)\n",
    "print(\"Validation Accuracy: {:.2f}%\".format(validation_scores[1] * 100))\n",
    "print(\"Validation Precision: {:.2f}%\".format(validation_scores[2] * 100))\n",
    "print(\"Validation Recall: {:.2f}%\".format(validation_scores[3] * 100))"
   ]
  },
  {
   "cell_type": "markdown",
   "id": "e95f086b",
   "metadata": {},
   "source": [
    "DATA TEST METRICS"
   ]
  },
  {
   "cell_type": "code",
   "execution_count": 11,
   "id": "de054171",
   "metadata": {},
   "outputs": [
    {
     "name": "stderr",
     "output_type": "stream",
     "text": [
      "c:\\Users\\ivanne bayer\\AppData\\Local\\Programs\\Python\\Python311\\Lib\\site-packages\\keras\\src\\trainers\\data_adapters\\py_dataset_adapter.py:120: UserWarning: Your `PyDataset` class should call `super().__init__(**kwargs)` in its constructor. `**kwargs` can include `workers`, `use_multiprocessing`, `max_queue_size`. Do not pass these arguments to `fit()`, as they will be ignored.\n",
      "  self._warn_if_super_not_called()\n"
     ]
    },
    {
     "name": "stdout",
     "output_type": "stream",
     "text": [
      "\u001b[1m84/84\u001b[0m \u001b[32m━━━━━━━━━━━━━━━━━━━━\u001b[0m\u001b[37m\u001b[0m \u001b[1m95s\u001b[0m 1s/step - accuracy: 0.8332 - loss: 3.0615 - precision: 0.9150 - recall: 0.7442\n",
      "Test Accuracy: 81.33%\n",
      "Test Precision: 89.73%\n",
      "Test Recall: 70.76%\n"
     ]
    }
   ],
   "source": [
    "# Evaluate the Model on Test Data\n",
    "test_scores = model.evaluate(test_generator)\n",
    "print(\"Test Accuracy: {:.2f}%\".format(test_scores[1] * 100))\n",
    "print(\"Test Precision: {:.2f}%\".format(test_scores[2] * 100))\n",
    "print(\"Test Recall: {:.2f}%\".format(test_scores[3] * 100))"
   ]
  },
  {
   "cell_type": "markdown",
   "id": "ad980f8c",
   "metadata": {},
   "source": [
    "GENERATING PREDICTIONS"
   ]
  },
  {
   "cell_type": "code",
   "execution_count": 15,
   "id": "d28cff89",
   "metadata": {},
   "outputs": [
    {
     "name": "stdout",
     "output_type": "stream",
     "text": [
      "\u001b[1m84/84\u001b[0m \u001b[32m━━━━━━━━━━━━━━━━━━━━\u001b[0m\u001b[37m\u001b[0m \u001b[1m100s\u001b[0m 1s/step\n"
     ]
    }
   ],
   "source": [
    "# Generate predictions\n",
    "test_generator.reset()\n",
    "y_pred = model.predict(test_generator).flatten()\n",
    "y_pred_binary = (y_pred > 0.5).astype(int)\n",
    "y_true = test_df[\"binary_label\"].values\n",
    "y_true = [int(label) for label in y_true]"
   ]
  },
  {
   "cell_type": "markdown",
   "id": "40a1c91c",
   "metadata": {},
   "source": [
    "VGG16 TEST DATA CONFUSION MATRIX"
   ]
  },
  {
   "cell_type": "code",
   "execution_count": null,
   "id": "eabd371c",
   "metadata": {},
   "outputs": [
    {
     "data": {
      "image/png": "[encoded data removed]",
      "text/plain": [
       "<Figure size 600x500 with 2 Axes>"
      ]
     },
     "metadata": {},
     "output_type": "display_data"
    }
   ],
   "source": [
    "# Confusion Matrix for Test Data\n",
    "cm_test = confusion_matrix(y_true, y_pred_binary)\n",
    "\n",
    "plt.figure(figsize=(6, 5))\n",
    "sns.heatmap(cm_test, annot=True, fmt='d', cmap='Blues',\n",
    "            xticklabels=[\"Non-Venomous\", \"Venomous\"],\n",
    "            yticklabels=[\"Non-Venomous\", \"Venomous\"])\n",
    "plt.ylabel('Actual')\n",
    "plt.xlabel('Predicted')\n",
    "plt.title('VGG16 Confusion Matrix (Test Data)')\n",
    "plt.show()"
   ]
  }
 ],
 "metadata": {
  "kernelspec": {
   "display_name": "Python 3",
   "language": "python",
   "name": "python3"
  },
  "language_info": {
   "codemirror_mode": {
    "name": "ipython",
    "version": 3
   },
   "file_extension": ".py",
   "mimetype": "text/x-python",
   "name": "python",
   "nbconvert_exporter": "python",
   "pygments_lexer": "ipython3",
   "version": "3.11.5"
  }
 },
 "nbformat": 4,
 "nbformat_minor": 5
}
