{
 "cells": [
  {
   "cell_type": "markdown",
   "id": "ab31fc6d",
   "metadata": {},
   "source": [
    "IMPORTS"
   ]
  },
  {
   "cell_type": "code",
   "execution_count": 6,
   "id": "d23f7968",
   "metadata": {},
   "outputs": [],
   "source": [
    "from tensorflow.keras.applications import VGG16\n",
    "from tensorflow.keras.applications.vgg16 import preprocess_input as vgg_preprocess_input\n",
    "from tensorflow.keras.models import Model, load_model\n",
    "from tensorflow.keras.layers import Dense, GlobalAveragePooling2D, Dropout\n",
    "from tensorflow.keras.preprocessing.image import ImageDataGenerator\n",
    "from tensorflow.keras.optimizers import Adam\n",
    "from tensorflow.keras.metrics import Precision, Recall\n",
    "from tqdm.keras import TqdmCallback\n",
    "from sklearn.metrics import confusion_matrix\n",
    "from sklearn.utils import class_weight\n",
    "import seaborn as sns\n",
    "import matplotlib.pyplot as plt\n",
    "import numpy as np\n",
    "import pandas as pd\n",
    "import os"
   ]
  },
  {
   "cell_type": "markdown",
   "id": "f5bcd746",
   "metadata": {},
   "source": [
    "DATA PREPROCESSING"
   ]
  },
  {
   "cell_type": "code",
   "execution_count": 7,
   "id": "a4c0c02a",
   "metadata": {},
   "outputs": [],
   "source": [
    "venomous_classes = [\"barredcoral snake\", \"king cobra\", \"north ph temple pitviper\"]\n",
    "\n",
    "def csv_to_binary_labels(csv_path, image_dir):\n",
    "    df = pd.read_csv(csv_path)\n",
    "\n",
    "    class_cols = df.columns[1:]\n",
    "    df[\"label\"] = df[class_cols].idxmax(axis=1)\n",
    "\n",
    "    df[\"binary_label\"] = df[\"label\"].apply(lambda x: 1 if x in venomous_classes else 0)\n",
    "\n",
    "    df_binary = df[[\"filename\", \"binary_label\"]].copy()\n",
    "    df_binary[\"filename\"] = df_binary[\"filename\"].apply(lambda x: f\"{image_dir}/{x}\")\n",
    "\n",
    "    df_binary[\"binary_label\"] = df_binary[\"binary_label\"].astype(str)\n",
    "\n",
    "    return df_binary"
   ]
  },
  {
   "cell_type": "markdown",
   "id": "271c9a1d",
   "metadata": {},
   "source": [
    "TRAIN AND VALIDATION DATAFRAME GENERATION"
   ]
  },
  {
   "cell_type": "code",
   "execution_count": 8,
   "id": "01ae4abc",
   "metadata": {},
   "outputs": [
    {
     "name": "stdout",
     "output_type": "stream",
     "text": [
      "Found 6300 validated image filenames belonging to 2 classes.\n",
      "Found 1800 validated image filenames belonging to 2 classes.\n",
      "Found 900 validated image filenames belonging to 2 classes.\n"
     ]
    }
   ],
   "source": [
    "train_df = csv_to_binary_labels(\"../dataset/train/_classes.csv\", \"../dataset/train\")\n",
    "val_df   = csv_to_binary_labels(\"../dataset/valid/_classes.csv\", \"../dataset/valid\")\n",
    "test_df  = csv_to_binary_labels(\"../dataset/test/_classes.csv\", \"../dataset/test\")\n",
    "\n",
    "datagen = ImageDataGenerator(preprocessing_function=vgg_preprocess_input)\n",
    "train_datagen = ImageDataGenerator(\n",
    "    preprocessing_function=vgg_preprocess_input,\n",
    "    rotation_range=20,\n",
    "    width_shift_range=0.1,\n",
    "    height_shift_range=0.1,\n",
    "    shear_range=0.1,\n",
    "    zoom_range=0.2,\n",
    "    horizontal_flip=True\n",
    ")\n",
    "\n",
    "train_generator = train_datagen.flow_from_dataframe(\n",
    "    train_df, x_col=\"filename\", y_col=\"binary_label\",\n",
    "    target_size=(224, 224), batch_size=16,\n",
    "    class_mode=\"binary\", shuffle=True\n",
    ")\n",
    "\n",
    "validation_generator = datagen.flow_from_dataframe(\n",
    "    val_df, x_col=\"filename\", y_col=\"binary_label\",\n",
    "    target_size=(224, 224), batch_size=16,\n",
    "    class_mode=\"binary\", shuffle=False\n",
    ")\n",
    "\n",
    "test_generator = datagen.flow_from_dataframe(\n",
    "    test_df, x_col=\"filename\", y_col=\"binary_label\",\n",
    "    target_size=(224, 224), batch_size=16,\n",
    "    class_mode=\"binary\", shuffle=False\n",
    ")"
   ]
  },
  {
   "cell_type": "markdown",
   "id": "1ec31103",
   "metadata": {},
   "source": [
    "MODEL TRAINING"
   ]
  },
  {
   "cell_type": "code",
   "execution_count": 9,
   "id": "45160fd2",
   "metadata": {},
   "outputs": [
    {
     "name": "stdout",
     "output_type": "stream",
     "text": [
      "✅ Loading pre-trained model from vgg16_finetuned_model.h5\n"
     ]
    },
    {
     "name": "stderr",
     "output_type": "stream",
     "text": [
      "WARNING:absl:Compiled the loaded model, but the compiled metrics have yet to be built. `model.compile_metrics` will be empty until you train or evaluate the model.\n"
     ]
    }
   ],
   "source": [
    "model_path = \"vgg16_finetuned_model.h5\"\n",
    "\n",
    "if os.path.exists(model_path):\n",
    "    print(f\"✅ Loading pre-trained model from {model_path}\")\n",
    "    model = load_model(model_path)\n",
    "else:\n",
    "    print(\"🚀 Training new model...\")\n",
    "    base_model = VGG16(weights='imagenet', include_top=False, input_shape=(224, 224, 3))\n",
    "    for layer in base_model.layers[:-5]:\n",
    "        layer.trainable = False\n",
    "    \n",
    "    x = base_model.output\n",
    "    x = GlobalAveragePooling2D()(x)\n",
    "    x = Dense(512, activation='relu')(x)\n",
    "    x = Dropout(0.5)(x)\n",
    "    predictions = Dense(1, activation='sigmoid')(x)\n",
    "    \n",
    "    model = Model(inputs=base_model.input, outputs=predictions)\n",
    "    model.compile(optimizer=Adam(learning_rate=0.0001),\n",
    "                  loss='binary_crossentropy',\n",
    "                  metrics=['accuracy', Precision(), Recall()])\n",
    "\n",
    "    class_weights = class_weight.compute_class_weight(\n",
    "        class_weight='balanced',\n",
    "        classes=np.unique(train_df['binary_label'].astype(int)),\n",
    "        y=train_df['binary_label'].astype(int)\n",
    "    )\n",
    "    class_weights = dict(enumerate(class_weights))\n",
    "\n",
    "    history = model.fit(\n",
    "        train_generator,\n",
    "        epochs=10,\n",
    "        validation_data=validation_generator,\n",
    "        class_weight=class_weights,\n",
    "        callbacks=[TqdmCallback(verbose=1)]\n",
    "    )\n",
    "\n",
    "    model.save(model_path)\n",
    "    print(f\"💾 Model saved as {model_path}\")"
   ]
  },
  {
   "cell_type": "markdown",
   "id": "e99976c6",
   "metadata": {},
   "source": [
    "DATA VALIDATION METRICS"
   ]
  },
  {
   "cell_type": "code",
   "execution_count": 10,
   "id": "a17cb3e3",
   "metadata": {},
   "outputs": [
    {
     "name": "stderr",
     "output_type": "stream",
     "text": [
      "c:\\Users\\ivanne bayer\\AppData\\Local\\Programs\\Python\\Python311\\Lib\\site-packages\\keras\\src\\trainers\\data_adapters\\py_dataset_adapter.py:120: UserWarning: Your `PyDataset` class should call `super().__init__(**kwargs)` in its constructor. `**kwargs` can include `workers`, `use_multiprocessing`, `max_queue_size`. Do not pass these arguments to `fit()`, as they will be ignored.\n",
      "  self._warn_if_super_not_called()\n"
     ]
    },
    {
     "name": "stdout",
     "output_type": "stream",
     "text": [
      "\u001b[1m113/113\u001b[0m \u001b[32m━━━━━━━━━━━━━━━━━━━━\u001b[0m\u001b[37m\u001b[0m \u001b[1m138s\u001b[0m 1s/step - accuracy: 0.9402 - loss: 0.2235 - precision: 0.9690 - recall: 0.9137\n",
      "Validation Accuracy: 94.22%\n",
      "Validation Precision: 97.64%\n",
      "Validation Recall: 91.27%\n"
     ]
    }
   ],
   "source": [
    "# Evaluate the Model on Validation Data\n",
    "validation_scores = model.evaluate(validation_generator)\n",
    "print(\"Validation Accuracy: {:.2f}%\".format(validation_scores[1] * 100))\n",
    "print(\"Validation Precision: {:.2f}%\".format(validation_scores[2] * 100))\n",
    "print(\"Validation Recall: {:.2f}%\".format(validation_scores[3] * 100))"
   ]
  },
  {
   "cell_type": "markdown",
   "id": "e95f086b",
   "metadata": {},
   "source": [
    "DATA TEST METRICS"
   ]
  },
  {
   "cell_type": "code",
   "execution_count": 11,
   "id": "de054171",
   "metadata": {},
   "outputs": [
    {
     "name": "stdout",
     "output_type": "stream",
     "text": [
      "\u001b[1m57/57\u001b[0m \u001b[32m━━━━━━━━━━━━━━━━━━━━\u001b[0m\u001b[37m\u001b[0m \u001b[1m65s\u001b[0m 1s/step - accuracy: 0.8848 - loss: 1.2800 - precision: 0.9802 - recall: 0.8356\n",
      "Test Accuracy: 82.22%\n",
      "Test Precision: 91.15%\n",
      "Test Recall: 72.81%\n"
     ]
    }
   ],
   "source": [
    "# Evaluate the Model on Test Data\n",
    "test_scores = model.evaluate(test_generator)\n",
    "print(\"Test Accuracy: {:.2f}%\".format(test_scores[1] * 100))\n",
    "print(\"Test Precision: {:.2f}%\".format(test_scores[2] * 100))\n",
    "print(\"Test Recall: {:.2f}%\".format(test_scores[3] * 100))"
   ]
  },
  {
   "cell_type": "markdown",
   "id": "ad980f8c",
   "metadata": {},
   "source": [
    "GENERATING PREDICTIONS"
   ]
  },
  {
   "cell_type": "code",
   "execution_count": 12,
   "id": "d28cff89",
   "metadata": {},
   "outputs": [
    {
     "name": "stdout",
     "output_type": "stream",
     "text": [
      "\u001b[1m57/57\u001b[0m \u001b[32m━━━━━━━━━━━━━━━━━━━━\u001b[0m\u001b[37m\u001b[0m \u001b[1m62s\u001b[0m 1s/step\n"
     ]
    }
   ],
   "source": [
    "# Generate predictions\n",
    "test_generator.reset()\n",
    "y_pred = model.predict(test_generator).flatten()\n",
    "y_pred_binary = (y_pred > 0.5).astype(int)\n",
    "y_true = test_df[\"binary_label\"].values\n",
    "y_true = [int(label) for label in y_true]"
   ]
  },
  {
   "cell_type": "markdown",
   "id": "40a1c91c",
   "metadata": {},
   "source": [
    "VGG16 TEST DATA CONFUSION MATRIX"
   ]
  },
  {
   "cell_type": "code",
   "execution_count": 13,
   "id": "eabd371c",
   "metadata": {},
   "outputs": [
    {
     "data": {
      "image/png": "[encoded data removed]",
      "text/plain": [
       "<Figure size 600x500 with 2 Axes>"
      ]
     },
     "metadata": {},
     "output_type": "display_data"
    }
   ],
   "source": [
    "# Confusion Matrix for Test Data\n",
    "cm_test = confusion_matrix(y_true, y_pred_binary)\n",
    "\n",
    "plt.figure(figsize=(6, 5))\n",
    "sns.heatmap(cm_test, annot=True, fmt='d', cmap='Blues',\n",
    "            xticklabels=[\"Non-Venomous\", \"Venomous\"],\n",
    "            yticklabels=[\"Non-Venomous\", \"Venomous\"])\n",
    "plt.ylabel('Actual')\n",
    "plt.xlabel('Predicted')\n",
    "plt.title('VGG16 Confusion Matrix (Test Data)')\n",
    "plt.show()"
   ]
  }
 ],
 "metadata": {
  "kernelspec": {
   "display_name": "Python 3",
   "language": "python",
   "name": "python3"
  },
  "language_info": {
   "codemirror_mode": {
    "name": "ipython",
    "version": 3
   },
   "file_extension": ".py",
   "mimetype": "text/x-python",
   "name": "python",
   "nbconvert_exporter": "python",
   "pygments_lexer": "ipython3",
   "version": "3.11.5"
  }
 },
 "nbformat": 4,
 "nbformat_minor": 5
}
